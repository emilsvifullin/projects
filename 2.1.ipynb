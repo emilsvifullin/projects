{
 "cells": [
  {
   "cell_type": "code",
   "execution_count": 1,
   "id": "a33add26-9fc4-46f1-b25d-1ad45f317d40",
   "metadata": {},
   "outputs": [],
   "source": [
    "import numpy as np\n",
    "import scipy.linalg as la\n",
    "from sympy import *\n",
    "init_printing()"
   ]
  },
  {
   "cell_type": "code",
   "execution_count": 2,
   "id": "140be02a-584a-49a5-9ad1-78fab0acede4",
   "metadata": {},
   "outputs": [],
   "source": [
    "A = np.array([[7,5,8],[5,5,8],[2,3,3]])"
   ]
  },
  {
   "cell_type": "code",
   "execution_count": 3,
   "id": "e66d3ecb-4760-4062-8355-e2fb51425827",
   "metadata": {},
   "outputs": [],
   "source": [
    "b = np.array([289,283,156]).reshape(3,1)"
   ]
  },
  {
   "cell_type": "code",
   "execution_count": 5,
   "id": "0ee845b7-1cfd-46ef-bf4b-1ac2fa45e19b",
   "metadata": {},
   "outputs": [],
   "source": [
    "Ab = np.hstack([A,b])"
   ]
  },
  {
   "cell_type": "code",
   "execution_count": 6,
   "id": "98050a94-4902-4c6b-8fc9-42d716ccf75b",
   "metadata": {},
   "outputs": [
    {
     "data": {
      "text/latex": [
       "$\\displaystyle \\left( \\left[\\begin{matrix}1 & 0 & 0 & 3\\\\0 & 1 & 0 & 44\\\\0 & 0 & 1 & 6\\end{matrix}\\right], \\  \\left( 0, \\  1, \\  2\\right)\\right)$"
      ],
      "text/plain": [
       "⎛⎡1  0  0  3 ⎤           ⎞\n",
       "⎜⎢           ⎥           ⎟\n",
       "⎜⎢0  1  0  44⎥, (0, 1, 2)⎟\n",
       "⎜⎢           ⎥           ⎟\n",
       "⎝⎣0  0  1  6 ⎦           ⎠"
      ]
     },
     "execution_count": 6,
     "metadata": {},
     "output_type": "execute_result"
    }
   ],
   "source": [
    "Matrix(Ab).rref()"
   ]
  },
  {
   "cell_type": "code",
   "execution_count": null,
   "id": "b4551ec1-564d-4701-ac45-891bf7de1a36",
   "metadata": {},
   "outputs": [],
   "source": [
    "Ответ: x = 3, y = 44, z = 6."
   ]
  }
 ],
 "metadata": {
  "kernelspec": {
   "display_name": "Python 3 (ipykernel)",
   "language": "python",
   "name": "python3"
  },
  "language_info": {
   "codemirror_mode": {
    "name": "ipython",
    "version": 3
   },
   "file_extension": ".py",
   "mimetype": "text/x-python",
   "name": "python",
   "nbconvert_exporter": "python",
   "pygments_lexer": "ipython3",
   "version": "3.12.4"
  }
 },
 "nbformat": 4,
 "nbformat_minor": 5
}
