{
 "cells": [
  {
   "cell_type": "code",
   "execution_count": 7,
   "id": "9fce546c-4e59-40f3-94ab-882785c66494",
   "metadata": {},
   "outputs": [],
   "source": [
    "import numpy as np\n",
    "from sympy import *\n",
    "init_printing()"
   ]
  },
  {
   "cell_type": "code",
   "execution_count": 8,
   "id": "140be02a-584a-49a5-9ad1-78fab0acede4",
   "metadata": {},
   "outputs": [],
   "source": [
    "A = np.array([[7,5,8],[5,5,8],[2,3,3]])"
   ]
  },
  {
   "cell_type": "code",
   "execution_count": 9,
   "id": "e66d3ecb-4760-4062-8355-e2fb51425827",
   "metadata": {},
   "outputs": [],
   "source": [
    "b = np.array([289,283,156]).reshape(3,1)"
   ]
  },
  {
   "cell_type": "code",
   "execution_count": 10,
   "id": "0ee845b7-1cfd-46ef-bf4b-1ac2fa45e19b",
   "metadata": {},
   "outputs": [],
   "source": [
    "Ab = np.hstack([A,b])"
   ]
  },
  {
   "cell_type": "code",
   "execution_count": 11,
   "id": "aa02a9cc-ffbc-4297-8dc9-eecc04201591",
   "metadata": {},
   "outputs": [
    {
     "data": {
      "text/latex": [
       "$\\displaystyle \\left( \\left[\\begin{matrix}1 & 0 & 0 & 3\\\\0 & 1 & 0 & 44\\\\0 & 0 & 1 & 6\\end{matrix}\\right], \\  \\left( 0, \\  1, \\  2\\right)\\right)$"
      ],
      "text/plain": [
       "⎛⎡1  0  0  3 ⎤           ⎞\n",
       "⎜⎢           ⎥           ⎟\n",
       "⎜⎢0  1  0  44⎥, (0, 1, 2)⎟\n",
       "⎜⎢           ⎥           ⎟\n",
       "⎝⎣0  0  1  6 ⎦           ⎠"
      ]
     },
     "execution_count": 11,
     "metadata": {},
     "output_type": "execute_result"
    }
   ],
   "source": [
    "Matrix(Ab).rref()"
   ]
  },
  {
   "cell_type": "markdown",
   "id": "1175e20a-e8ba-4a19-bea9-92989f8cb0cf",
   "metadata": {},
   "source": [
    "Ответ: x = 3, y = 44, z = 6."
   ]
  }
 ],
 "metadata": {
  "kernelspec": {
   "display_name": "Python 3 (ipykernel)",
   "language": "python",
   "name": "python3"
  },
  "language_info": {
   "codemirror_mode": {
    "name": "ipython",
    "version": 3
   },
   "file_extension": ".py",
   "mimetype": "text/x-python",
   "name": "python",
   "nbconvert_exporter": "python",
   "pygments_lexer": "ipython3",
   "version": "3.12.4"
  }
 },
 "nbformat": 4,
 "nbformat_minor": 5
}
