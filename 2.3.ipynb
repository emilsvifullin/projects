{
 "cells": [
  {
   "cell_type": "code",
   "execution_count": 30,
   "id": "e33ee73b-df4e-418c-81c0-0d868db4e50e",
   "metadata": {},
   "outputs": [],
   "source": [
    "import numpy as np\n",
    "import scipy.linalg as la\n",
    "from sympy import *\n",
    "init_printing()"
   ]
  },
  {
   "cell_type": "code",
   "execution_count": 37,
   "id": "ebf47cdc-6053-415f-b2c9-bb478964bc74",
   "metadata": {},
   "outputs": [],
   "source": [
    "A = np.array([[3,5,3,-1,0,0],[1,0,0,1,1,0],[9,7,8,0,-1,0],[0,1,0,1,0,1],[9,2,3,0,0,-1],[0,0,1,0,1,1]])"
   ]
  },
  {
   "cell_type": "code",
   "execution_count": 38,
   "id": "842035bd-cefe-4d1a-952a-304351b0db71",
   "metadata": {},
   "outputs": [],
   "source": [
    "b = np.array([72,71,198,68,94,86]).reshape(6,1)"
   ]
  },
  {
   "cell_type": "code",
   "execution_count": 39,
   "id": "c3f5a8a6-35d6-43fc-adf7-222420b0a98c",
   "metadata": {},
   "outputs": [],
   "source": [
    "Ab = np.hstack([A,b])"
   ]
  },
  {
   "cell_type": "code",
   "execution_count": 42,
   "id": "b1e32129-98ab-4d2b-a3f4-4f8e3c979773",
   "metadata": {},
   "outputs": [
    {
     "data": {
      "text/latex": [
       "$\\displaystyle \\left( \\left[\\begin{matrix}1 & 0 & 0 & 0 & 0 & 0 & 8\\\\0 & 1 & 0 & 0 & 0 & 0 & 6\\\\0 & 0 & 1 & 0 & 0 & 0 & 15\\\\0 & 0 & 0 & 1 & 0 & 0 & 27\\\\0 & 0 & 0 & 0 & 1 & 0 & 36\\\\0 & 0 & 0 & 0 & 0 & 1 & 35\\end{matrix}\\right], \\  \\left( 0, \\  1, \\  2, \\  3, \\  4, \\  5\\right)\\right)$"
      ],
      "text/plain": [
       "⎛⎡1  0  0  0  0  0  8 ⎤                    ⎞\n",
       "⎜⎢                    ⎥                    ⎟\n",
       "⎜⎢0  1  0  0  0  0  6 ⎥                    ⎟\n",
       "⎜⎢                    ⎥                    ⎟\n",
       "⎜⎢0  0  1  0  0  0  15⎥                    ⎟\n",
       "⎜⎢                    ⎥, (0, 1, 2, 3, 4, 5)⎟\n",
       "⎜⎢0  0  0  1  0  0  27⎥                    ⎟\n",
       "⎜⎢                    ⎥                    ⎟\n",
       "⎜⎢0  0  0  0  1  0  36⎥                    ⎟\n",
       "⎜⎢                    ⎥                    ⎟\n",
       "⎝⎣0  0  0  0  0  1  35⎦                    ⎠"
      ]
     },
     "execution_count": 42,
     "metadata": {},
     "output_type": "execute_result"
    }
   ],
   "source": [
    "Matrix(Ab).rref()"
   ]
  },
  {
   "cell_type": "code",
   "execution_count": null,
   "id": "a70d6d0d-b19b-459c-a6ae-7c70e091dec1",
   "metadata": {},
   "outputs": [],
   "source": [
    "Ответ: y = 6, v = 36."
   ]
  }
 ],
 "metadata": {
  "kernelspec": {
   "display_name": "Python 3 (ipykernel)",
   "language": "python",
   "name": "python3"
  },
  "language_info": {
   "codemirror_mode": {
    "name": "ipython",
    "version": 3
   },
   "file_extension": ".py",
   "mimetype": "text/x-python",
   "name": "python",
   "nbconvert_exporter": "python",
   "pygments_lexer": "ipython3",
   "version": "3.12.4"
  }
 },
 "nbformat": 4,
 "nbformat_minor": 5
}
