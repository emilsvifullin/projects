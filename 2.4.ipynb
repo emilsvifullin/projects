{
 "cells": [
  {
   "cell_type": "code",
   "execution_count": 1,
   "id": "5e87531b-eeb0-49d0-8659-5dfd33b01117",
   "metadata": {},
   "outputs": [],
   "source": [
    "import numpy as np\n",
    "import scipy.linalg as la\n",
    "from sympy import *\n",
    "init_printing()"
   ]
  },
  {
   "cell_type": "code",
   "execution_count": 2,
   "id": "a28c7529-04d0-444f-8f95-1e0a1daeb547",
   "metadata": {},
   "outputs": [],
   "source": [
    "A = np.array([[1,0,0,1,1,0],[9,3,5,-1,0,0],[0,1,0,1,0,1],[5,2,5,0,-1,0],[0,0,1,0,1,1],[9,7,2,0,0,-1]])"
   ]
  },
  {
   "cell_type": "code",
   "execution_count": 3,
   "id": "51d9759d-0afc-4035-9ba1-3f3052474343",
   "metadata": {},
   "outputs": [],
   "source": [
    "b = np.array([69,211,78,135,72,219]).reshape(6,1)"
   ]
  },
  {
   "cell_type": "code",
   "execution_count": 4,
   "id": "4522913a-44ef-4822-a7d0-0d9464c9e4d8",
   "metadata": {},
   "outputs": [],
   "source": [
    "Ab = np.hstack([A,b])"
   ]
  },
  {
   "cell_type": "code",
   "execution_count": 5,
   "id": "e8b46ad9-9e70-4423-be3b-933c8624f4d5",
   "metadata": {},
   "outputs": [
    {
     "data": {
      "text/latex": [
       "$\\displaystyle \\left( \\left[\\begin{matrix}1 & 0 & 0 & 0 & 0 & 0 & 17\\\\0 & 1 & 0 & 0 & 0 & 0 & 12\\\\0 & 0 & 1 & 0 & 0 & 0 & 10\\\\0 & 0 & 0 & 1 & 0 & 0 & 28\\\\0 & 0 & 0 & 0 & 1 & 0 & 24\\\\0 & 0 & 0 & 0 & 0 & 1 & 38\\end{matrix}\\right], \\  \\left( 0, \\  1, \\  2, \\  3, \\  4, \\  5\\right)\\right)$"
      ],
      "text/plain": [
       "⎛⎡1  0  0  0  0  0  17⎤                    ⎞\n",
       "⎜⎢                    ⎥                    ⎟\n",
       "⎜⎢0  1  0  0  0  0  12⎥                    ⎟\n",
       "⎜⎢                    ⎥                    ⎟\n",
       "⎜⎢0  0  1  0  0  0  10⎥                    ⎟\n",
       "⎜⎢                    ⎥, (0, 1, 2, 3, 4, 5)⎟\n",
       "⎜⎢0  0  0  1  0  0  28⎥                    ⎟\n",
       "⎜⎢                    ⎥                    ⎟\n",
       "⎜⎢0  0  0  0  1  0  24⎥                    ⎟\n",
       "⎜⎢                    ⎥                    ⎟\n",
       "⎝⎣0  0  0  0  0  1  38⎦                    ⎠"
      ]
     },
     "execution_count": 5,
     "metadata": {},
     "output_type": "execute_result"
    }
   ],
   "source": [
    "Matrix(Ab).rref()"
   ]
  },
  {
   "cell_type": "code",
   "execution_count": null,
   "id": "550bb663-a423-40ef-ab99-880063db2f97",
   "metadata": {},
   "outputs": [],
   "source": [
    "Ответ: z = 10, w = 38."
   ]
  }
 ],
 "metadata": {
  "kernelspec": {
   "display_name": "Python 3 (ipykernel)",
   "language": "python",
   "name": "python3"
  },
  "language_info": {
   "codemirror_mode": {
    "name": "ipython",
    "version": 3
   },
   "file_extension": ".py",
   "mimetype": "text/x-python",
   "name": "python",
   "nbconvert_exporter": "python",
   "pygments_lexer": "ipython3",
   "version": "3.12.4"
  }
 },
 "nbformat": 4,
 "nbformat_minor": 5
}
