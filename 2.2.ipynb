{
 "cells": [
  {
   "cell_type": "code",
   "execution_count": 1,
   "id": "edd90283-a626-4be7-bfe4-fba569727ceb",
   "metadata": {},
   "outputs": [],
   "source": [
    "import numpy as np\n",
    "import scipy.linalg as la\n",
    "from sympy import *\n",
    "init_printing()"
   ]
  },
  {
   "cell_type": "code",
   "execution_count": 4,
   "id": "46407026-7a43-4cc9-a74e-621b6fa5a9e4",
   "metadata": {},
   "outputs": [],
   "source": [
    "A = np.array([[1,0,0,1,1,0],[0,1,0,1,0,1],[0,0,1,0,1,1],[2,3,5,-1,0,0],[8,7,2,0,-1,0],[8,8,5,0,0,-1]])"
   ]
  },
  {
   "cell_type": "code",
   "execution_count": 6,
   "id": "61101490-d736-44b4-882a-9c19b3d8f4a1",
   "metadata": {},
   "outputs": [],
   "source": [
    "b = np.array([76,67,71,159,290,372]).reshape(6,1)"
   ]
  },
  {
   "cell_type": "code",
   "execution_count": 7,
   "id": "b308a8b7-e6fc-433f-96a2-88a5ea2cf9c0",
   "metadata": {},
   "outputs": [],
   "source": [
    "Ab = np.hstack([A,b])"
   ]
  },
  {
   "cell_type": "code",
   "execution_count": 8,
   "id": "0dd2a9a7-754c-40e6-ae94-646c48e5eb52",
   "metadata": {},
   "outputs": [
    {
     "data": {
      "text/latex": [
       "$\\displaystyle \\left( \\left[\\begin{matrix}1 & 0 & 0 & 0 & 0 & 0 & 19\\\\0 & 1 & 0 & 0 & 0 & 0 & 19\\\\0 & 0 & 1 & 0 & 0 & 0 & 18\\\\0 & 0 & 0 & 1 & 0 & 0 & 26\\\\0 & 0 & 0 & 0 & 1 & 0 & 31\\\\0 & 0 & 0 & 0 & 0 & 1 & 22\\end{matrix}\\right], \\  \\left( 0, \\  1, \\  2, \\  3, \\  4, \\  5\\right)\\right)$"
      ],
      "text/plain": [
       "⎛⎡1  0  0  0  0  0  19⎤                    ⎞\n",
       "⎜⎢                    ⎥                    ⎟\n",
       "⎜⎢0  1  0  0  0  0  19⎥                    ⎟\n",
       "⎜⎢                    ⎥                    ⎟\n",
       "⎜⎢0  0  1  0  0  0  18⎥                    ⎟\n",
       "⎜⎢                    ⎥, (0, 1, 2, 3, 4, 5)⎟\n",
       "⎜⎢0  0  0  1  0  0  26⎥                    ⎟\n",
       "⎜⎢                    ⎥                    ⎟\n",
       "⎜⎢0  0  0  0  1  0  31⎥                    ⎟\n",
       "⎜⎢                    ⎥                    ⎟\n",
       "⎝⎣0  0  0  0  0  1  22⎦                    ⎠"
      ]
     },
     "execution_count": 8,
     "metadata": {},
     "output_type": "execute_result"
    }
   ],
   "source": [
    "Matrix(Ab).rref()"
   ]
  },
  {
   "cell_type": "code",
   "execution_count": null,
   "id": "5eb5ee78-fcf7-4560-b672-a73dd2a2a16c",
   "metadata": {},
   "outputs": [],
   "source": [
    "Ответ: x = 19, u = 26."
   ]
  }
 ],
 "metadata": {
  "kernelspec": {
   "display_name": "Python 3 (ipykernel)",
   "language": "python",
   "name": "python3"
  },
  "language_info": {
   "codemirror_mode": {
    "name": "ipython",
    "version": 3
   },
   "file_extension": ".py",
   "mimetype": "text/x-python",
   "name": "python",
   "nbconvert_exporter": "python",
   "pygments_lexer": "ipython3",
   "version": "3.12.4"
  }
 },
 "nbformat": 4,
 "nbformat_minor": 5
}
