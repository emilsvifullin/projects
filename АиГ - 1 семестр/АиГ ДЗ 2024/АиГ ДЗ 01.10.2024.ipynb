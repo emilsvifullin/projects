{
  "metadata": {
    "kernelspec": {
      "name": "python",
      "display_name": "Python (Pyodide)",
      "language": "python"
    },
    "language_info": {
      "codemirror_mode": {
        "name": "python",
        "version": 3
      },
      "file_extension": ".py",
      "mimetype": "text/x-python",
      "name": "python",
      "nbconvert_exporter": "python",
      "pygments_lexer": "ipython3",
      "version": "3.8"
    }
  },
  "nbformat_minor": 5,
  "nbformat": 4,
  "cells": [
    {
      "id": "3310a66d-4486-49bb-a6d3-156b84e74413",
      "cell_type": "code",
      "source": "import numpy as np\nfrom sympy import *\ninit_printing()",
      "metadata": {
        "trusted": true
      },
      "outputs": [],
      "execution_count": 1
    },
    {
      "id": "e83e8547-da04-4ba0-bc9f-cd6675ad3b93",
      "cell_type": "markdown",
      "source": "# Задание 1",
      "metadata": {}
    },
    {
      "id": "84963c92-1831-4c4b-8206-5a7d1cb1436b",
      "cell_type": "code",
      "source": "A = np.array([[3,1,0],\n             [-1,-1,1],\n             [2,0,5]])\nA3 = np.array([[3,3,3],\n               [3,3,3],\n               [3,3,3]])\nB = np.array([[-2,1,0],\n              [4,-1,1],\n              [6,4,3]])\nB2 = np.array([[2,2,2],\n               [2,2,2],\n               [2,2,2]])\nC = A*A3 - B*B2\nMatrix(C)",
      "metadata": {
        "trusted": true
      },
      "outputs": [
        {
          "execution_count": 6,
          "output_type": "execute_result",
          "data": {
            "text/plain": "⎡13   1   0⎤\n⎢          ⎥\n⎢-11  -1  1⎥\n⎢          ⎥\n⎣-6   -8  9⎦",
            "text/latex": "$\\displaystyle \\left[\\begin{matrix}13 & 1 & 0\\\\-11 & -1 & 1\\\\-6 & -8 & 9\\end{matrix}\\right]$"
          },
          "metadata": {}
        }
      ],
      "execution_count": 6
    },
    {
      "id": "8c1a533f-26d6-4466-a340-d558b1461534",
      "cell_type": "markdown",
      "source": "# Задание 2",
      "metadata": {}
    },
    {
      "id": "fcedf240-a8e4-4eee-b374-b69d2e515232",
      "cell_type": "code",
      "source": "A = np.array([[3,0,2],\n              [0,1,3],\n              [2,2,0],\n              [0,1,0]])\nB = np.array([[1,2,-1,2],\n              [-2,-1,1,2],\n              [2,1,1,2]])\nC = np.array([[0,-4,6,1],\n              [2,2,-5,-2],\n              [2,-2,6,4],\n              [1,3,0,1]])\nres = (A@B) + C\nMatrix(res)",
      "metadata": {
        "trusted": true
      },
      "outputs": [
        {
          "execution_count": 8,
          "output_type": "execute_result",
          "data": {
            "text/plain": "⎡7   4  5   11⎤\n⎢             ⎥\n⎢6   4  -1  6 ⎥\n⎢             ⎥\n⎢0   0  6   12⎥\n⎢             ⎥\n⎣-1  2  1   3 ⎦",
            "text/latex": "$\\displaystyle \\left[\\begin{matrix}7 & 4 & 5 & 11\\\\6 & 4 & -1 & 6\\\\0 & 0 & 6 & 12\\\\-1 & 2 & 1 & 3\\end{matrix}\\right]$"
          },
          "metadata": {}
        }
      ],
      "execution_count": 8
    },
    {
      "id": "87fc8b79-4736-450f-b776-af4b866b25c8",
      "cell_type": "markdown",
      "source": "# Задание 3",
      "metadata": {}
    },
    {
      "id": "b32f6e41-dfd0-4170-ac02-1c5068c96149",
      "cell_type": "code",
      "source": "A = np.array([[3,2],\n              [-4,-2]])\nres = A**5\nMatrix(res)",
      "metadata": {
        "trusted": true
      },
      "outputs": [
        {
          "execution_count": 11,
          "output_type": "execute_result",
          "data": {
            "text/plain": "⎡ 243   32 ⎤\n⎢          ⎥\n⎣-1024  -32⎦",
            "text/latex": "$\\displaystyle \\left[\\begin{matrix}243 & 32\\\\-1024 & -32\\end{matrix}\\right]$"
          },
          "metadata": {}
        }
      ],
      "execution_count": 11
    },
    {
      "id": "59827ff0-84e4-4ca9-b69b-99d236d3f2e1",
      "cell_type": "markdown",
      "source": "# Задание 4",
      "metadata": {}
    },
    {
      "id": "51b1f453-3ed0-415c-87c4-fb2ffc877fd8",
      "cell_type": "code",
      "source": "",
      "metadata": {
        "trusted": true
      },
      "outputs": [],
      "execution_count": null
    },
    {
      "id": "cc9e5daf-1abc-4c39-9fc2-da1e83c6eb16",
      "cell_type": "markdown",
      "source": "# Задание 5",
      "metadata": {}
    },
    {
      "id": "f4489ede-4840-4eab-9d70-ec343c3059ed",
      "cell_type": "code",
      "source": "",
      "metadata": {
        "trusted": true
      },
      "outputs": [],
      "execution_count": null
    },
    {
      "id": "6a91f6a9-8cb9-4d4c-b1c9-581f3a8b8e7a",
      "cell_type": "markdown",
      "source": "# Задание 6",
      "metadata": {}
    },
    {
      "id": "a6e8b729-eab4-48c2-868b-f8c97660a1e3",
      "cell_type": "code",
      "source": "",
      "metadata": {
        "trusted": true
      },
      "outputs": [],
      "execution_count": null
    },
    {
      "id": "63db4ffb-9d16-49ba-bdf1-591921e762db",
      "cell_type": "markdown",
      "source": "# Задание 7",
      "metadata": {}
    },
    {
      "id": "b84d02f5-a4c3-492c-81c0-532d3d439083",
      "cell_type": "code",
      "source": "A = np.array([[0,1,0],\n              [1,0,0],\n              [0,0,1]])\nB = np.array([[2,1],\n              [1,-1]])\nres = np.kron(A, B)\nMatrix(res)",
      "metadata": {
        "trusted": true
      },
      "outputs": [
        {
          "execution_count": 12,
          "output_type": "execute_result",
          "data": {
            "text/plain": "⎡0  0   2  1   0  0 ⎤\n⎢                   ⎥\n⎢0  0   1  -1  0  0 ⎥\n⎢                   ⎥\n⎢2  1   0  0   0  0 ⎥\n⎢                   ⎥\n⎢1  -1  0  0   0  0 ⎥\n⎢                   ⎥\n⎢0  0   0  0   2  1 ⎥\n⎢                   ⎥\n⎣0  0   0  0   1  -1⎦",
            "text/latex": "$\\displaystyle \\left[\\begin{matrix}0 & 0 & 2 & 1 & 0 & 0\\\\0 & 0 & 1 & -1 & 0 & 0\\\\2 & 1 & 0 & 0 & 0 & 0\\\\1 & -1 & 0 & 0 & 0 & 0\\\\0 & 0 & 0 & 0 & 2 & 1\\\\0 & 0 & 0 & 0 & 1 & -1\\end{matrix}\\right]$"
          },
          "metadata": {}
        }
      ],
      "execution_count": 12
    },
    {
      "id": "729d6382-a537-4be0-8a65-9c89d1266782",
      "cell_type": "markdown",
      "source": "# Задание 8",
      "metadata": {}
    },
    {
      "id": "89ea7794-8479-4325-b3b3-9fc55816612e",
      "cell_type": "code",
      "source": "a = np.array([[1,2],\n              [3,4],\n              [5,6]])\na_column = np.vstack(a)\nb = np.array([3,4])\nb_column = np.vstack(b)\nc = np.array([5,6])\nc_column = np.vstack(c)\nres = np.kron(np.kron(a_column, b_column), c_column)\nMatrix(res)",
      "metadata": {
        "trusted": true
      },
      "outputs": [
        {
          "execution_count": 20,
          "output_type": "execute_result",
          "data": {
            "text/plain": "⎡15   30 ⎤\n⎢        ⎥\n⎢18   36 ⎥\n⎢        ⎥\n⎢20   40 ⎥\n⎢        ⎥\n⎢24   48 ⎥\n⎢        ⎥\n⎢45   60 ⎥\n⎢        ⎥\n⎢54   72 ⎥\n⎢        ⎥\n⎢60   80 ⎥\n⎢        ⎥\n⎢72   96 ⎥\n⎢        ⎥\n⎢75   90 ⎥\n⎢        ⎥\n⎢90   108⎥\n⎢        ⎥\n⎢100  120⎥\n⎢        ⎥\n⎣120  144⎦",
            "text/latex": "$\\displaystyle \\left[\\begin{matrix}15 & 30\\\\18 & 36\\\\20 & 40\\\\24 & 48\\\\45 & 60\\\\54 & 72\\\\60 & 80\\\\72 & 96\\\\75 & 90\\\\90 & 108\\\\100 & 120\\\\120 & 144\\end{matrix}\\right]$"
          },
          "metadata": {}
        }
      ],
      "execution_count": 20
    },
    {
      "id": "c8b60902-67fd-48e5-97b3-92dfc73a2ef8",
      "cell_type": "markdown",
      "source": "# Задание 9",
      "metadata": {}
    },
    {
      "id": "f8cea678-a25b-4950-9447-850ee91ff160",
      "cell_type": "code",
      "source": "a = np.array([1,2,3])\na_column = np.vstack(a)\nb = np.array([4,5])\nb_column = np.vstack(b)\nres1 = np.kron(a, b)\nres2 = a_column * b_column.T\nMatrix(res1), Matrix(res2)",
      "metadata": {
        "trusted": true
      },
      "outputs": [
        {
          "execution_count": 25,
          "output_type": "execute_result",
          "data": {
            "text/plain": "⎛⎡4 ⎤          ⎞\n⎜⎢  ⎥          ⎟\n⎜⎢5 ⎥          ⎟\n⎜⎢  ⎥  ⎡4   5 ⎤⎟\n⎜⎢8 ⎥  ⎢      ⎥⎟\n⎜⎢  ⎥, ⎢8   10⎥⎟\n⎜⎢10⎥  ⎢      ⎥⎟\n⎜⎢  ⎥  ⎣12  15⎦⎟\n⎜⎢12⎥          ⎟\n⎜⎢  ⎥          ⎟\n⎝⎣15⎦          ⎠",
            "text/latex": "$\\displaystyle \\left( \\left[\\begin{matrix}4\\\\5\\\\8\\\\10\\\\12\\\\15\\end{matrix}\\right], \\  \\left[\\begin{matrix}4 & 5\\\\8 & 10\\\\12 & 15\\end{matrix}\\right]\\right)$"
          },
          "metadata": {}
        }
      ],
      "execution_count": 25
    },
    {
      "id": "128078c6-1163-412e-a4bd-8546b9e27e95",
      "cell_type": "markdown",
      "source": "# Задание 10",
      "metadata": {}
    },
    {
      "id": "f736705e-de28-452e-8dc8-40176a51ea7e",
      "cell_type": "code",
      "source": "",
      "metadata": {
        "trusted": true
      },
      "outputs": [],
      "execution_count": null
    },
    {
      "id": "27d1fc4d-1f0f-4e70-9406-79fd440294bc",
      "cell_type": "markdown",
      "source": "# Задание 11",
      "metadata": {}
    },
    {
      "id": "4d4d5f66-03d4-45bb-8bc4-2c03fd4c6507",
      "cell_type": "code",
      "source": "A = np.array([[1,2],\n              [3,1]])\nI = np.eye(2)\nA2 = np.dot(A, A)\nA3 = np.dot(A2, A)\nf_A = A3 - A2 + A + 3 * I\nf_A_int = f_A.astype(int)\nMatrix(f_A_int)",
      "metadata": {
        "trusted": true
      },
      "outputs": [
        {
          "execution_count": 27,
          "output_type": "execute_result",
          "data": {
            "text/plain": "⎡16  16⎤\n⎢      ⎥\n⎣24  16⎦",
            "text/latex": "$\\displaystyle \\left[\\begin{matrix}16 & 16\\\\24 & 16\\end{matrix}\\right]$"
          },
          "metadata": {}
        }
      ],
      "execution_count": 27
    },
    {
      "id": "117dd269-ef7d-4a9a-9929-02a333c66cfc",
      "cell_type": "markdown",
      "source": "# Задание 12",
      "metadata": {}
    },
    {
      "id": "f5691592-f5eb-4a58-8955-0cf04a209a2d",
      "cell_type": "code",
      "source": "",
      "metadata": {
        "trusted": true
      },
      "outputs": [],
      "execution_count": null
    },
    {
      "id": "a078a496-0b4a-46a1-b119-b6b3bf691919",
      "cell_type": "markdown",
      "source": "# Задание 13",
      "metadata": {}
    },
    {
      "id": "c7b92cef-fbc3-4068-a410-238d569655e3",
      "cell_type": "code",
      "source": "",
      "metadata": {
        "trusted": true
      },
      "outputs": [],
      "execution_count": null
    },
    {
      "id": "7c9b9b07-b326-4a50-8898-ad128e203595",
      "cell_type": "markdown",
      "source": "# Задание 14",
      "metadata": {}
    },
    {
      "id": "474cadeb-cbea-4433-ab72-e50c6b78b4b2",
      "cell_type": "code",
      "source": "",
      "metadata": {
        "trusted": true
      },
      "outputs": [],
      "execution_count": null
    }
  ]
}