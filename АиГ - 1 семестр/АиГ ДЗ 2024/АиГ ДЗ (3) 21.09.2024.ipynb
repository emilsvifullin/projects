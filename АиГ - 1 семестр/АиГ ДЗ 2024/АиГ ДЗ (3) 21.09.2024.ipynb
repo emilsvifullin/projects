{
  "metadata": {
    "kernelspec": {
      "name": "python",
      "display_name": "Python (Pyodide)",
      "language": "python"
    },
    "language_info": {
      "codemirror_mode": {
        "name": "python",
        "version": 3
      },
      "file_extension": ".py",
      "mimetype": "text/x-python",
      "name": "python",
      "nbconvert_exporter": "python",
      "pygments_lexer": "ipython3",
      "version": "3.8"
    }
  },
  "nbformat_minor": 4,
  "nbformat": 4,
  "cells": [
    {
      "cell_type": "code",
      "source": "import numpy as np\nimport scipy.linalg as la\nfrom sympy import *\ninit_printing()",
      "metadata": {
        "trusted": true
      },
      "outputs": [],
      "execution_count": 6
    },
    {
      "cell_type": "markdown",
      "source": "# Задание 1",
      "metadata": {}
    },
    {
      "cell_type": "code",
      "source": "A1 = np.array([2, -1, 3, 4, -1])\nA2 = np.array([1, 2, -3, 1, 2])\nA3 = np.array([5, -5, 12, 11, -5])\nA4 = np.array([1, -3, 6, 3, -3])\n\nA = np.column_stack((A1, A2, A3, A4))\n\nMatrix(A).rank(), Matrix(A).rref()",
      "metadata": {
        "trusted": true
      },
      "outputs": [
        {
          "execution_count": 2,
          "output_type": "execute_result",
          "data": {
            "text/plain": "⎛   ⎛⎡1  0  3   1 ⎤        ⎞⎞\n⎜   ⎜⎢            ⎥        ⎟⎟\n⎜   ⎜⎢0  1  -1  -1⎥        ⎟⎟\n⎜   ⎜⎢            ⎥        ⎟⎟\n⎜2, ⎜⎢0  0  0   0 ⎥, (0, 1)⎟⎟\n⎜   ⎜⎢            ⎥        ⎟⎟\n⎜   ⎜⎢0  0  0   0 ⎥        ⎟⎟\n⎜   ⎜⎢            ⎥        ⎟⎟\n⎝   ⎝⎣0  0  0   0 ⎦        ⎠⎠",
            "text/latex": "$\\displaystyle \\left( 2, \\  \\left( \\left[\\begin{matrix}1 & 0 & 3 & 1\\\\0 & 1 & -1 & -1\\\\0 & 0 & 0 & 0\\\\0 & 0 & 0 & 0\\\\0 & 0 & 0 & 0\\end{matrix}\\right], \\  \\left( 0, \\  1\\right)\\right)\\right)$"
          },
          "metadata": {}
        }
      ],
      "execution_count": 2
    },
    {
      "cell_type": "markdown",
      "source": "# Задание 2",
      "metadata": {}
    },
    {
      "cell_type": "code",
      "source": "A = np.array([[1, 3, 5, 7, 9],\n              [1, -2, 3, -4, 5],\n              [2, 11, 12, 25, 22]])\nb = np.array([1, 2, 4])\n\nAb = np.column_stack((A, b))\n\nrank_A = np.linalg.matrix_rank(A)\nrank_Ab = np.linalg.matrix_rank(Ab)\n\nif rank_A == rank_Ab:\n    print(\"Ответ: Система совместна.\")\nelse:\n    print(\"Ответ: Система несовместна.\")",
      "metadata": {
        "trusted": true
      },
      "outputs": [
        {
          "name": "stdout",
          "text": "Ответ: Система несовместна.\n",
          "output_type": "stream"
        }
      ],
      "execution_count": 3
    },
    {
      "cell_type": "markdown",
      "source": "# Задание 3",
      "metadata": {}
    },
    {
      "cell_type": "code",
      "source": "A1 = np.array([1, 2, 1, 3])\nA2 = np.array([2, -1, 3, 1])\nA3 = np.array([-1, 1, -2, -2])\nb = np.array([2, 2, 2, 2])\n\nA = np.column_stack((A1, A2, A3))\n\nx = np.linalg.lstsq(A, b, rcond=None)[0]\n\nprint(f\"Ответ: x = [{x[0]:.0f}, {x[1]:.0f}, {x[2]:.0f}].\")\nprint(f\"Проверка: b = {A1*1+A2*1+A3*1}.\")",
      "metadata": {
        "trusted": true
      },
      "outputs": [
        {
          "name": "stdout",
          "text": "Ответ: x = [1, 1, 1].\nПроверка: b = [2 2 2 2].\n",
          "output_type": "stream"
        }
      ],
      "execution_count": 4
    },
    {
      "cell_type": "markdown",
      "source": "# Задание 4",
      "metadata": {}
    },
    {
      "cell_type": "code",
      "source": "x1, x2, x3, x4 = symbols('x1 x2 x3 x4')\n\neq1 = Eq(x1 + x2 - 2*x3 + 2*x4, 0)\neq2 = Eq(3*x1 + 5*x2 + 6*x3 - 4*x4, 0)\neq3 = Eq(4*x1 + 5*x2 - 2*x3 + 3*x4, 0)\neq4 = Eq(3*x1 + 8*x2 + 24*x3 - 19*x4, 0)\n\nsolution = solve((eq1, eq2, eq3, eq4), (x1, x2, x3, x4))\n\nprint(\"Решение:\")\nfor var, val in solution.items():\n    print(f\"{var} = {val}\")",
      "metadata": {
        "trusted": true
      },
      "outputs": [
        {
          "name": "stdout",
          "text": "Решение:\nx1 = 8*x3 - 7*x4\nx2 = -6*x3 + 5*x4\n",
          "output_type": "stream"
        }
      ],
      "execution_count": 5
    },
    {
      "cell_type": "markdown",
      "source": "# Задание 5",
      "metadata": {}
    },
    {
      "cell_type": "code",
      "source": "E = Matrix([[1, 0, 2, 1],[0, 1, 3, 2]])\n\nres = E.nullspace()\n\nres",
      "metadata": {
        "trusted": true
      },
      "outputs": [
        {
          "execution_count": 7,
          "output_type": "execute_result",
          "data": {
            "text/plain": "⎡⎡-2⎤  ⎡-1⎤⎤\n⎢⎢  ⎥  ⎢  ⎥⎥\n⎢⎢-3⎥  ⎢-2⎥⎥\n⎢⎢  ⎥, ⎢  ⎥⎥\n⎢⎢1 ⎥  ⎢0 ⎥⎥\n⎢⎢  ⎥  ⎢  ⎥⎥\n⎣⎣0 ⎦  ⎣1 ⎦⎦",
            "text/latex": "$\\displaystyle \\left[ \\left[\\begin{matrix}-2\\\\-3\\\\1\\\\0\\end{matrix}\\right], \\  \\left[\\begin{matrix}-1\\\\-2\\\\0\\\\1\\end{matrix}\\right]\\right]$"
          },
          "metadata": {}
        }
      ],
      "execution_count": 7
    },
    {
      "cell_type": "markdown",
      "source": "# Задание 6",
      "metadata": {}
    },
    {
      "cell_type": "code",
      "source": "E = Matrix([[1,4,-2,2,-1],[3,13,-1,2,1],[2,7,-8,4,-5]])\n\nres = E.nullspace()\n\nres",
      "metadata": {
        "trusted": true
      },
      "outputs": [
        {
          "execution_count": 9,
          "output_type": "execute_result",
          "data": {
            "text/plain": "⎡⎡70 ⎤  ⎡-5⎤⎤\n⎢⎢   ⎥  ⎢  ⎥⎥\n⎢⎢-16⎥  ⎢1 ⎥⎥\n⎢⎢   ⎥  ⎢  ⎥⎥\n⎢⎢ 4 ⎥, ⎢-1⎥⎥\n⎢⎢   ⎥  ⎢  ⎥⎥\n⎢⎢ 1 ⎥  ⎢0 ⎥⎥\n⎢⎢   ⎥  ⎢  ⎥⎥\n⎣⎣ 0 ⎦  ⎣1 ⎦⎦",
            "text/latex": "$\\displaystyle \\left[ \\left[\\begin{matrix}70\\\\-16\\\\4\\\\1\\\\0\\end{matrix}\\right], \\  \\left[\\begin{matrix}-5\\\\1\\\\-1\\\\0\\\\1\\end{matrix}\\right]\\right]$"
          },
          "metadata": {}
        }
      ],
      "execution_count": 9
    },
    {
      "cell_type": "markdown",
      "source": "# Задание 7",
      "metadata": {}
    },
    {
      "cell_type": "code",
      "source": "",
      "metadata": {
        "trusted": true
      },
      "outputs": [],
      "execution_count": null
    },
    {
      "cell_type": "markdown",
      "source": "# Задание 8",
      "metadata": {}
    },
    {
      "cell_type": "code",
      "source": "",
      "metadata": {
        "trusted": true
      },
      "outputs": [],
      "execution_count": null
    }
  ]
}