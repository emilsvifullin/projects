{
 "cells": [
  {
   "cell_type": "markdown",
   "metadata": {},
   "source": [
    "<big>ПМ24-5 Сайфуллин Эмиль</big>"
   ]
  },
  {
   "cell_type": "code",
   "execution_count": 5,
   "metadata": {},
   "outputs": [],
   "source": [
    "import numpy as np\n",
    "from sympy import *\n",
    "init_printing()\n",
    "def с: # округление до n знаков после запятой\n",
    "    fmt = '{:.'+str(n)+'f}'\n",
    "    return fmt.format(x).replace('.',',')"
   ]
  },
  {
   "cell_type": "markdown",
   "metadata": {},
   "source": [
    "1. Решите систему уравнений:\n",
    "$$\n",
    "\\left\\{\\begin{array}{l}\n",
    "3x + 2y + 9z = 499 \\\\ \n",
    "3x + 5y + 2z = 293 \\\\ \n",
    "4x + 6y + 4z = 428 \\\\ \n",
    "\\end{array}\\right.\n",
    "$$\n",
    "В ответе укажите найденные значения неизвестных.\n",
    "1) Значение  $x$.\n",
    "2) Значение  $y$.\n",
    "3) Значение  $z$.<br/>"
   ]
  },
  {
   "cell_type": "code",
   "execution_count": 8,
   "metadata": {},
   "outputs": [
    {
     "data": {
      "text/latex": [
       "$\\displaystyle \\left( \\left[\\begin{matrix}1 & 0 & 0 & 39\\\\0 & 1 & 0 & 20\\\\0 & 0 & 1 & 38\\end{matrix}\\right], \\  \\left( 0, \\  1, \\  2\\right)\\right)$"
      ],
      "text/plain": [
       "⎛⎡1  0  0  39⎤           ⎞\n",
       "⎜⎢           ⎥           ⎟\n",
       "⎜⎢0  1  0  20⎥, (0, 1, 2)⎟\n",
       "⎜⎢           ⎥           ⎟\n",
       "⎝⎣0  0  1  38⎦           ⎠"
      ]
     },
     "execution_count": 8,
     "metadata": {},
     "output_type": "execute_result"
    }
   ],
   "source": [
    "A = Matrix([[3,2,9,499],[3,5,2,293],[4,6,4,428]])\n",
    "A.rref()"
   ]
  },
  {
   "cell_type": "markdown",
   "metadata": {},
   "source": [
    "Ответ: x = 39, y = 20, z = 38."
   ]
  },
  {
   "cell_type": "markdown",
   "metadata": {},
   "source": [
    "2. Найдите значения переменных $x,y,z,u,v,w$, удовлетворяющие условиям:\n",
    "$$\n",
    "\\begin{array}{ll}\n",
    "4x + 6y + 6z - u = 160;&x + u + v = 76;\\\\ \n",
    "6x + 2y + 4z - v = 125;&y + u + w = 63;\\\\ \n",
    "7x + 4y + 7z - w = 198;&z + v + w = 60. \n",
    "\\end{array}\n",
    "$$\n",
    "В ответе укажите найденные значения:\n",
    "1) значение  $x$;\n",
    "2) значение  $u$.<br/>"
   ]
  },
  {
   "cell_type": "code",
   "execution_count": 10,
   "metadata": {},
   "outputs": [
    {
     "data": {
      "text/latex": [
       "$\\displaystyle \\left( \\left[\\begin{matrix}1 & 0 & 0 & 0 & 0 & 0 & 17\\\\0 & 1 & 0 & 0 & 0 & 0 & 13\\\\0 & 0 & 1 & 0 & 0 & 0 & 7\\\\0 & 0 & 0 & 1 & 0 & 0 & 28\\\\0 & 0 & 0 & 0 & 1 & 0 & 31\\\\0 & 0 & 0 & 0 & 0 & 1 & 22\\end{matrix}\\right], \\  \\left( 0, \\  1, \\  2, \\  3, \\  4, \\  5\\right)\\right)$"
      ],
      "text/plain": [
       "⎛⎡1  0  0  0  0  0  17⎤                    ⎞\n",
       "⎜⎢                    ⎥                    ⎟\n",
       "⎜⎢0  1  0  0  0  0  13⎥                    ⎟\n",
       "⎜⎢                    ⎥                    ⎟\n",
       "⎜⎢0  0  1  0  0  0  7 ⎥                    ⎟\n",
       "⎜⎢                    ⎥, (0, 1, 2, 3, 4, 5)⎟\n",
       "⎜⎢0  0  0  1  0  0  28⎥                    ⎟\n",
       "⎜⎢                    ⎥                    ⎟\n",
       "⎜⎢0  0  0  0  1  0  31⎥                    ⎟\n",
       "⎜⎢                    ⎥                    ⎟\n",
       "⎝⎣0  0  0  0  0  1  22⎦                    ⎠"
      ]
     },
     "execution_count": 10,
     "metadata": {},
     "output_type": "execute_result"
    }
   ],
   "source": [
    "A = Matrix([[4,6,6,-1,0,0,160],[6,2,4,0,-1,0,125],[7,4,7,0,0,-1,198],[1,0,0,1,1,0,76],[0,1,0,1,0,1,63],[0,0,1,0,1,1,60]])\n",
    "A.rref()"
   ]
  },
  {
   "cell_type": "markdown",
   "metadata": {},
   "source": [
    "Ответ: x = 17, u = 28."
   ]
  },
  {
   "cell_type": "markdown",
   "metadata": {},
   "source": [
    "3. Пусть $(x,y,z,u)$ – решение системы уравнений:\n",
    "$$\n",
    "\\left\\{\\begin{array}{l}\n",
    "36x + 13y + 24z + 15u = 45\\\\ \n",
    "39x + 22y + 47z + 31u = 25\\\\ \n",
    "38x + 12y + 28z + 19u = 32 \n",
    "\\end{array}\\right.\n",
    "$$\n",
    "Объясните, почему $y$ можно представить как функцию от $x$ вида $y=a+bx$, где $a,b$ – константы, \n",
    "зависящие только от коэффициентов исходной системы уравнений.\n",
    "Найдите:\n",
    "1) константу  $a$;\n",
    "2) константу  $b$.<br/>"
   ]
  },
  {
   "cell_type": "code",
   "execution_count": 16,
   "metadata": {},
   "outputs": [
    {
     "data": {
      "text/latex": [
       "$\\displaystyle \\left( \\left[\\begin{matrix}1 & 0 & 0 & 2062 & 3096\\\\0 & 1 & 0 & 978 & 1473\\\\0 & 0 & 1 & -1817 & -2731\\end{matrix}\\right], \\  \\left( 0, \\  1, \\  2\\right)\\right)$"
      ],
      "text/plain": [
       "⎛⎡1  0  0  2062   3096 ⎤           ⎞\n",
       "⎜⎢                     ⎥           ⎟\n",
       "⎜⎢0  1  0   978   1473 ⎥, (0, 1, 2)⎟\n",
       "⎜⎢                     ⎥           ⎟\n",
       "⎝⎣0  0  1  -1817  -2731⎦           ⎠"
      ]
     },
     "execution_count": 16,
     "metadata": {},
     "output_type": "execute_result"
    }
   ],
   "source": [
    "A = Matrix([[36,13,24,15,45],[39,22,47,31,25],[38,12,28,19,32]])\n",
    "A = A.elementary_col_op('n<->m', col1=0, col2=3)\n",
    "A.rref()"
   ]
  },
  {
   "cell_type": "markdown",
   "metadata": {},
   "source": [
    "y + 978x = 1473"
   ]
  },
  {
   "cell_type": "markdown",
   "metadata": {},
   "source": [
    "y = 1473 - 978x"
   ]
  },
  {
   "cell_type": "markdown",
   "metadata": {},
   "source": [
    "Ответ: a = 1473, b = -978."
   ]
  },
  {
   "cell_type": "markdown",
   "metadata": {},
   "source": [
    "4. Найдите количество решений следующей системы уравнений при различных значениях параметра $a$:  \n",
    "$$\n",
    "\\left\\{\\begin{array}{l}\n",
    "7x + 2y + 6z = 0\\\\ \n",
    "ax + 8y + 7z = 0\\\\ \n",
    "6x + 4y + 2z = 0 \n",
    "\\end{array}\\right.\n",
    "$$\n",
    "В ответе укажите:\n",
    "1) значение параметра $a$, при котором система имеет бесконечное число решений.<br/>"
   ]
  },
  {
   "cell_type": "code",
   "execution_count": 19,
   "metadata": {},
   "outputs": [
    {
     "data": {
      "text/latex": [
       "$\\displaystyle \\left[\\begin{matrix}0 & 2 & 6 & 7\\\\0 & 0 & -34 & 2 a - 56\\\\0 & 0 & 0 & 40 a - 576\\end{matrix}\\right]$"
      ],
      "text/plain": [
       "⎡0  2   6       7     ⎤\n",
       "⎢                     ⎥\n",
       "⎢0  0  -34   2⋅a - 56 ⎥\n",
       "⎢                     ⎥\n",
       "⎣0  0   0   40⋅a - 576⎦"
      ]
     },
     "execution_count": 19,
     "metadata": {},
     "output_type": "execute_result"
    }
   ],
   "source": [
    "a = Symbol('a')\n",
    "A = Matrix([[7,2,6,0],[a,8,7,0],[6,4,2,0]])\n",
    "A = A.elementary_col_op('n<->m', col1=0, col2=3)\n",
    "A.echelon_form()"
   ]
  },
  {
   "cell_type": "code",
   "execution_count": 20,
   "metadata": {},
   "outputs": [
    {
     "data": {
      "image/png": "[encoded data removed]",
      "text/latex": [
       "$\\displaystyle 14.4$"
      ],
      "text/plain": [
       "14.4"
      ]
     },
     "execution_count": 20,
     "metadata": {},
     "output_type": "execute_result"
    }
   ],
   "source": [
    "576/40"
   ]
  },
  {
   "cell_type": "markdown",
   "metadata": {},
   "source": [
    "Ответ: a = 14.4"
   ]
  },
  {
   "cell_type": "markdown",
   "metadata": {},
   "source": [
    "5. Исследуйте следующую систему уравнений на наличие ʺлишнихʺ уравнений при различных значениях параметра $a$:  \n",
    "$$\n",
    "\\left\\{\\begin{array}{l}\n",
    "2x + 7y + 4z = a\\\\ \n",
    "7x + 4y + 2z = 7\\\\ \n",
    "8x + 4y + 7z = 2\\\\ \n",
    "8x + 9y + 4z = 7\n",
    "\\end{array}\\right.\n",
    "$$\n",
    "В ответе укажите:\n",
    "1) значение параметра $a$, при котором в системе имеется уравнение, \n",
    "которое является линейной комбинацией других уравнений.<br/>"
   ]
  },
  {
   "cell_type": "code",
   "execution_count": 23,
   "metadata": {},
   "outputs": [
    {
     "data": {
      "text/latex": [
       "$\\displaystyle \\left[\\begin{matrix}7 & 4 & 2 & 7\\\\0 & 20 & 45 & 42\\\\0 & 0 & -1295 & -1330\\\\0 & 0 & 0 & 149940 a + 114660\\end{matrix}\\right]$"
      ],
      "text/plain": [
       "⎡7  4     2            7        ⎤\n",
       "⎢                               ⎥\n",
       "⎢0  20   45           42        ⎥\n",
       "⎢                               ⎥\n",
       "⎢0  0   -1295        -1330      ⎥\n",
       "⎢                               ⎥\n",
       "⎣0  0     0    149940⋅a + 114660⎦"
      ]
     },
     "execution_count": 23,
     "metadata": {},
     "output_type": "execute_result"
    }
   ],
   "source": [
    "a = Symbol('a')\n",
    "A = Matrix([[2,7,4,a],[7,4,2,7],[8,4,7,2],[8,9,4,7]])\n",
    "A = A.elementary_col_op('n<->m', col1=0, col2=3)\n",
    "A.echelon_form()"
   ]
  },
  {
   "cell_type": "code",
   "execution_count": 26,
   "metadata": {},
   "outputs": [
    {
     "data": {
      "image/png": "[encoded data removed]",
      "text/latex": [
       "$\\displaystyle -0.76$"
      ],
      "text/plain": [
       "-0.76"
      ]
     },
     "execution_count": 26,
     "metadata": {},
     "output_type": "execute_result"
    }
   ],
   "source": [
    "round(-114660/149940,2)"
   ]
  },
  {
   "cell_type": "markdown",
   "metadata": {},
   "source": [
    "Ответ: -0.76"
   ]
  }
 ],
 "metadata": {
  "kernelspec": {
   "display_name": "Python 3 (ipykernel)",
   "language": "python",
   "name": "python3"
  },
  "language_info": {
   "codemirror_mode": {
    "name": "ipython",
    "version": 3
   },
   "file_extension": ".py",
   "mimetype": "text/x-python",
   "name": "python",
   "nbconvert_exporter": "python",
   "pygments_lexer": "ipython3",
   "version": "3.10.9"
  }
 },
 "nbformat": 4,
 "nbformat_minor": 4
}
