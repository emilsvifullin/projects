{
 "cells": [
  {
   "cell_type": "code",
   "execution_count": 11,
   "metadata": {},
   "outputs": [],
   "source": [
    "import numpy as np\n",
    "import scipy.linalg as la\n",
    "from sympy import *\n",
    "init_printing()"
   ]
  },
  {
   "cell_type": "code",
   "execution_count": 12,
   "metadata": {},
   "outputs": [],
   "source": [
    "E1 = np.array([1,4,-2,2,-1])\n",
    "E2 = np.array([3,13,-1,2,1])\n",
    "E3 = np.array([2,7,-8,4,-5])"
   ]
  },
  {
   "cell_type": "code",
   "execution_count": 13,
   "metadata": {},
   "outputs": [],
   "source": [
    "E = np.column_stack((E1, E2, E3))"
   ]
  },
  {
   "cell_type": "code",
   "execution_count": 14,
   "metadata": {},
   "outputs": [],
   "source": [
    "A = Matrix(E)"
   ]
  },
  {
   "cell_type": "code",
   "execution_count": 15,
   "metadata": {},
   "outputs": [],
   "source": [
    "nullspace = A.nullspace()"
   ]
  },
  {
   "cell_type": "code",
   "execution_count": 16,
   "metadata": {},
   "outputs": [
    {
     "data": {
      "text/latex": [
       "$\\displaystyle \\left[\\begin{matrix}1 & 3 & 2\\\\4 & 13 & 7\\\\-2 & -1 & -8\\\\2 & 2 & 4\\\\-1 & 1 & -5\\end{matrix}\\right]$"
      ],
      "text/plain": [
       "⎡1   3   2 ⎤\n",
       "⎢          ⎥\n",
       "⎢4   13  7 ⎥\n",
       "⎢          ⎥\n",
       "⎢-2  -1  -8⎥\n",
       "⎢          ⎥\n",
       "⎢2   2   4 ⎥\n",
       "⎢          ⎥\n",
       "⎣-1  1   -5⎦"
      ]
     },
     "execution_count": 16,
     "metadata": {},
     "output_type": "execute_result"
    }
   ],
   "source": [
    "A"
   ]
  }
 ],
 "metadata": {
  "kernelspec": {
   "display_name": "base",
   "language": "python",
   "name": "python3"
  },
  "language_info": {
   "codemirror_mode": {
    "name": "ipython",
    "version": 3
   },
   "file_extension": ".py",
   "mimetype": "text/x-python",
   "name": "python",
   "nbconvert_exporter": "python",
   "pygments_lexer": "ipython3",
   "version": "3.12.4"
  }
 },
 "nbformat": 4,
 "nbformat_minor": 2
}
