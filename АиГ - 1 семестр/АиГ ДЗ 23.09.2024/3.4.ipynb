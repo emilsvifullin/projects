{
 "cells": [
  {
   "cell_type": "code",
   "execution_count": 44,
   "metadata": {},
   "outputs": [],
   "source": [
    "import numpy as np\n",
    "import scipy.linalg as la\n",
    "from sympy import *\n",
    "init_printing()"
   ]
  },
  {
   "cell_type": "code",
   "execution_count": 45,
   "metadata": {},
   "outputs": [],
   "source": [
    "x1, x2, x3, x4 = symbols('x1 x2 x3 x4')"
   ]
  },
  {
   "cell_type": "code",
   "execution_count": 46,
   "metadata": {},
   "outputs": [],
   "source": [
    "eq1 = Eq(x1 + x2 - 2*x3 + 2*x4, 0)\n",
    "eq2 = Eq(3*x1 + 5*x2 + 6*x3 - 4*x4, 0)\n",
    "eq3 = Eq(4*x1 + 5*x2 - 2*x3 + 3*x4, 0)\n",
    "eq4 = Eq(3*x1 + 8*x2 + 24*x3 - 19*x4, 0)"
   ]
  },
  {
   "cell_type": "code",
   "execution_count": 47,
   "metadata": {},
   "outputs": [],
   "source": [
    "solution = solve((eq1, eq2, eq3, eq4), (x1, x2, x3, x4))"
   ]
  },
  {
   "cell_type": "code",
   "execution_count": 48,
   "metadata": {},
   "outputs": [
    {
     "name": "stdout",
     "output_type": "stream",
     "text": [
      "Решение:\n",
      "x1 = 8*x3 - 7*x4\n",
      "x2 = -6*x3 + 5*x4\n"
     ]
    }
   ],
   "source": [
    "print(\"Решение:\")\n",
    "for var, val in solution.items():\n",
    "    print(f\"{var} = {val}\")"
   ]
  }
 ],
 "metadata": {
  "kernelspec": {
   "display_name": "base",
   "language": "python",
   "name": "python3"
  },
  "language_info": {
   "codemirror_mode": {
    "name": "ipython",
    "version": 3
   },
   "file_extension": ".py",
   "mimetype": "text/x-python",
   "name": "python",
   "nbconvert_exporter": "python",
   "pygments_lexer": "ipython3",
   "version": "3.12.4"
  }
 },
 "nbformat": 4,
 "nbformat_minor": 2
}
