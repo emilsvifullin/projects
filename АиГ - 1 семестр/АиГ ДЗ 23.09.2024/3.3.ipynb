{
 "cells": [
  {
   "cell_type": "code",
   "execution_count": 1,
   "metadata": {},
   "outputs": [],
   "source": [
    "import numpy as np\n",
    "import scipy.linalg as la\n",
    "from sympy import *\n",
    "init_printing()"
   ]
  },
  {
   "cell_type": "code",
   "execution_count": 2,
   "metadata": {},
   "outputs": [],
   "source": [
    "A1 = np.array([1, 2, 1, 3])\n",
    "A2 = np.array([2, -1, 3, 1])\n",
    "A3 = np.array([-1, 1, -2, -2])\n",
    "b = np.array([2, 2, 2, 2])"
   ]
  },
  {
   "cell_type": "code",
   "execution_count": 3,
   "metadata": {},
   "outputs": [],
   "source": [
    "A = np.column_stack((A1, A2, A3))"
   ]
  },
  {
   "cell_type": "code",
   "execution_count": 4,
   "metadata": {},
   "outputs": [],
   "source": [
    "x = np.linalg.lstsq(A, b, rcond=None)[0]"
   ]
  },
  {
   "cell_type": "code",
   "execution_count": 5,
   "metadata": {},
   "outputs": [
    {
     "name": "stdout",
     "output_type": "stream",
     "text": [
      "Ответ: x = [1, 1, 1].\n",
      "Проверка: b = [2 2 2 2].\n"
     ]
    }
   ],
   "source": [
    "print(f\"Ответ: x = [{x[0]:.0f}, {x[1]:.0f}, {x[2]:.0f}].\")\n",
    "print(f\"Проверка: b = {A1*1+A2*1+A3*1}.\")"
   ]
  }
 ],
 "metadata": {
  "kernelspec": {
   "display_name": "base",
   "language": "python",
   "name": "python3"
  },
  "language_info": {
   "codemirror_mode": {
    "name": "ipython",
    "version": 3
   },
   "file_extension": ".py",
   "mimetype": "text/x-python",
   "name": "python",
   "nbconvert_exporter": "python",
   "pygments_lexer": "ipython3",
   "version": "3.12.4"
  }
 },
 "nbformat": 4,
 "nbformat_minor": 2
}
