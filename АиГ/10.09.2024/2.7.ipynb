{
 "cells": [
  {
   "cell_type": "code",
   "execution_count": 2,
   "id": "c6e71aa1-7f52-48cb-89fe-b234352587a9",
   "metadata": {},
   "outputs": [],
   "source": [
    "import numpy as np\n",
    "from sympy import *\n",
    "init_printing()"
   ]
  },
  {
   "cell_type": "code",
   "execution_count": 3,
   "id": "0d6e5275-4670-4df0-842e-9579db96d4f6",
   "metadata": {},
   "outputs": [],
   "source": [
    "a = Symbol('a')"
   ]
  },
  {
   "cell_type": "code",
   "execution_count": 12,
   "id": "7419ab48-697a-4289-a412-9ff74858067f",
   "metadata": {},
   "outputs": [],
   "source": [
    "A = Matrix([[9,8,7,a],[8,3,8,6],[4,9,4,9],[5,7,2,7]])"
   ]
  },
  {
   "cell_type": "code",
   "execution_count": 13,
   "id": "ed1bd2da-a5c3-44eb-9ab7-353c8aca4db1",
   "metadata": {},
   "outputs": [
    {
     "data": {
      "text/latex": [
       "$\\displaystyle \\left[\\begin{matrix}9 & 8 & 7 & a\\\\0 & -37 & 16 & 54 - 8 a\\\\0 & 0 & -1080 & 540 a - 5643\\\\0 & 0 & 0 & 5331663 - 539460 a\\end{matrix}\\right]$"
      ],
      "text/plain": [
       "⎡9   8     7            a         ⎤\n",
       "⎢                                 ⎥\n",
       "⎢0  -37   16         54 - 8⋅a     ⎥\n",
       "⎢                                 ⎥\n",
       "⎢0   0   -1080     540⋅a - 5643   ⎥\n",
       "⎢                                 ⎥\n",
       "⎣0   0     0    5331663 - 539460⋅a⎦"
      ]
     },
     "execution_count": 13,
     "metadata": {},
     "output_type": "execute_result"
    }
   ],
   "source": [
    "A.echelon_form()"
   ]
  },
  {
   "cell_type": "code",
   "execution_count": 14,
   "id": "0a9ebdbd-fee0-4513-924b-39690cb2cd17",
   "metadata": {},
   "outputs": [
    {
     "data": {
      "image/png": "[encoded data removed]",
      "text/latex": [
       "$\\displaystyle 9.88333333333333$"
      ],
      "text/plain": [
       "9.883333333333333"
      ]
     },
     "execution_count": 14,
     "metadata": {},
     "output_type": "execute_result"
    }
   ],
   "source": [
    "5331663/539460"
   ]
  },
  {
   "cell_type": "markdown",
   "id": "066048f6-4ad7-4bed-a248-c2fb75e078ea",
   "metadata": {},
   "source": [
    "Ответ: a = 9.883"
   ]
  }
 ],
 "metadata": {
  "kernelspec": {
   "display_name": "Python 3 (ipykernel)",
   "language": "python",
   "name": "python3"
  },
  "language_info": {
   "codemirror_mode": {
    "name": "ipython",
    "version": 3
   },
   "file_extension": ".py",
   "mimetype": "text/x-python",
   "name": "python",
   "nbconvert_exporter": "python",
   "pygments_lexer": "ipython3",
   "version": "3.12.4"
  }
 },
 "nbformat": 4,
 "nbformat_minor": 5
}
