{
 "cells": [
  {
   "cell_type": "code",
   "execution_count": 3,
   "id": "7124bc0e-dd08-4747-a444-5a62a6200a21",
   "metadata": {},
   "outputs": [],
   "source": [
    "import numpy as np\n",
    "from sympy import *\n",
    "init_printing()"
   ]
  },
  {
   "cell_type": "code",
   "execution_count": 7,
   "id": "e1252f97-36cf-4abb-b23c-93331bc439a0",
   "metadata": {},
   "outputs": [],
   "source": [
    "A = Matrix([[32,97,90,48,47],[35,84,91,54,40],[17,18,21,13,37]])"
   ]
  },
  {
   "cell_type": "code",
   "execution_count": 8,
   "id": "00e8c324-329f-4135-8d1f-053628a5905a",
   "metadata": {},
   "outputs": [],
   "source": [
    "A = A.elementary_col_op('n<->m', col1=0, col2=3)"
   ]
  },
  {
   "cell_type": "code",
   "execution_count": 9,
   "id": "8a0915ef-c5dc-46a8-a801-e7fe77ff15a1",
   "metadata": {},
   "outputs": [
    {
     "data": {
      "text/latex": [
       "$\\displaystyle \\left( \\left[\\begin{matrix}1 & 0 & 0 & 10976 & 36121\\\\0 & 1 & 0 & 4262 & 14027\\\\0 & 0 & 1 & -10447 & -34382\\end{matrix}\\right], \\  \\left( 0, \\  1, \\  2\\right)\\right)$"
      ],
      "text/plain": [
       "⎛⎡1  0  0  10976   36121 ⎤           ⎞\n",
       "⎜⎢                       ⎥           ⎟\n",
       "⎜⎢0  1  0   4262   14027 ⎥, (0, 1, 2)⎟\n",
       "⎜⎢                       ⎥           ⎟\n",
       "⎝⎣0  0  1  -10447  -34382⎦           ⎠"
      ]
     },
     "execution_count": 9,
     "metadata": {},
     "output_type": "execute_result"
    }
   ],
   "source": [
    "A.rref()"
   ]
  },
  {
   "cell_type": "markdown",
   "id": "d9ef8253-d693-40ba-b59c-8e542da3209f",
   "metadata": {},
   "source": [
    "y = 14027 - 4262x"
   ]
  },
  {
   "cell_type": "markdown",
   "id": "975ef117-c405-41f7-aeb1-8dc7b8d60b51",
   "metadata": {},
   "source": [
    "Ответ: a = 14027, b = -4262"
   ]
  }
 ],
 "metadata": {
  "kernelspec": {
   "display_name": "Python 3 (ipykernel)",
   "language": "python",
   "name": "python3"
  },
  "language_info": {
   "codemirror_mode": {
    "name": "ipython",
    "version": 3
   },
   "file_extension": ".py",
   "mimetype": "text/x-python",
   "name": "python",
   "nbconvert_exporter": "python",
   "pygments_lexer": "ipython3",
   "version": "3.12.4"
  }
 },
 "nbformat": 4,
 "nbformat_minor": 5
}
