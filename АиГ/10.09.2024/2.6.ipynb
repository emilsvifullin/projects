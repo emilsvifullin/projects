{
 "cells": [
  {
   "cell_type": "code",
   "execution_count": 1,
   "id": "2f58b1df-f499-4102-a9b9-17202f928b84",
   "metadata": {},
   "outputs": [],
   "source": [
    "import numpy as np\n",
    "from sympy import *\n",
    "init_printing()"
   ]
  },
  {
   "cell_type": "code",
   "execution_count": 2,
   "id": "d89de580-cf5b-44a4-8130-cf3c263256c1",
   "metadata": {},
   "outputs": [],
   "source": [
    "a = Symbol('a')"
   ]
  },
  {
   "cell_type": "code",
   "execution_count": 3,
   "id": "4cb25648-9f7d-4947-8314-2930e6caa004",
   "metadata": {},
   "outputs": [],
   "source": [
    "A = Matrix([[2,9,8,0],[8,5,3,0],[a,9,9,0]])"
   ]
  },
  {
   "cell_type": "code",
   "execution_count": 4,
   "id": "648f26e5-a1df-45fb-b636-863f0fc5a168",
   "metadata": {},
   "outputs": [],
   "source": [
    "A = A.elementary_col_op('n<->m', col1=0, col2=2)"
   ]
  },
  {
   "cell_type": "code",
   "execution_count": 9,
   "id": "866538f1-c8ae-46b9-9b71-2de7fe1030c2",
   "metadata": {},
   "outputs": [
    {
     "data": {
      "text/latex": [
       "$\\displaystyle \\left[\\begin{matrix}8 & 9 & 2 & 0\\\\0 & 13 & 58 & 0\\\\0 & 0 & 104 a + 288 & 0\\end{matrix}\\right]$"
      ],
      "text/plain": [
       "⎡8  9        2       0⎤\n",
       "⎢                     ⎥\n",
       "⎢0  13      58       0⎥\n",
       "⎢                     ⎥\n",
       "⎣0  0   104⋅a + 288  0⎦"
      ]
     },
     "execution_count": 9,
     "metadata": {},
     "output_type": "execute_result"
    }
   ],
   "source": [
    "A.echelon_form()"
   ]
  },
  {
   "cell_type": "code",
   "execution_count": 10,
   "id": "efd59426-a643-4bbd-9474-9945176c78b8",
   "metadata": {},
   "outputs": [
    {
     "data": {
      "image/png": "[encoded data removed]",
      "text/latex": [
       "$\\displaystyle -2.76923076923077$"
      ],
      "text/plain": [
       "-2.769230769230769"
      ]
     },
     "execution_count": 10,
     "metadata": {},
     "output_type": "execute_result"
    }
   ],
   "source": [
    "-288/104"
   ]
  },
  {
   "cell_type": "markdown",
   "id": "5a6ff1bd-2ac4-42c1-8dd0-a8ffafcec260",
   "metadata": {},
   "source": [
    "Ответ: -2.769"
   ]
  }
 ],
 "metadata": {
  "kernelspec": {
   "display_name": "Python 3 (ipykernel)",
   "language": "python",
   "name": "python3"
  },
  "language_info": {
   "codemirror_mode": {
    "name": "ipython",
    "version": 3
   },
   "file_extension": ".py",
   "mimetype": "text/x-python",
   "name": "python",
   "nbconvert_exporter": "python",
   "pygments_lexer": "ipython3",
   "version": "3.12.4"
  }
 },
 "nbformat": 4,
 "nbformat_minor": 5
}
